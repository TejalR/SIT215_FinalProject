{
 "cells": [
  {
   "cell_type": "code",
   "execution_count": 1,
   "metadata": {},
   "outputs": [],
   "source": [
    "from IPython.display import clear_output\n",
    "import numpy as np\n",
    "import random\n",
    "import time\n",
    "import gym"
   ]
  },
  {
   "cell_type": "code",
   "execution_count": 2,
   "metadata": {},
   "outputs": [
    {
     "name": "stdout",
     "output_type": "stream",
     "text": [
      "+---------+\n",
      "|\u001b[34;1mR\u001b[0m: | : :\u001b[35mG\u001b[0m|\n",
      "| : | : : |\n",
      "| : :\u001b[43m \u001b[0m: : |\n",
      "| | : | : |\n",
      "|Y| : |B: |\n",
      "+---------+\n",
      "\n"
     ]
    }
   ],
   "source": [
    "env = gym.make(\"Taxi-v3\") #Creation of the environment\n",
    "env.render() # Displaying it"
   ]
  },
  {
   "cell_type": "code",
   "execution_count": 3,
   "metadata": {},
   "outputs": [
    {
     "name": "stdout",
     "output_type": "stream",
     "text": [
      "Action size  6\n",
      "State size  500\n"
     ]
    }
   ],
   "source": [
    "# Amount of potential actions\n",
    "action_size = env.action_space.n\n",
    "print(\"Action size \", action_size)\n",
    "\n",
    "#Amount of potential states\n",
    "state_size = env.observation_space.n\n",
    "print(\"State size \", state_size)"
   ]
  },
  {
   "cell_type": "code",
   "execution_count": 4,
   "metadata": {},
   "outputs": [
    {
     "name": "stdout",
     "output_type": "stream",
     "text": [
      "[[0. 0. 0. 0. 0. 0.]\n",
      " [0. 0. 0. 0. 0. 0.]\n",
      " [0. 0. 0. 0. 0. 0.]\n",
      " ...\n",
      " [0. 0. 0. 0. 0. 0.]\n",
      " [0. 0. 0. 0. 0. 0.]\n",
      " [0. 0. 0. 0. 0. 0.]]\n"
     ]
    }
   ],
   "source": [
    "qtable = np.zeros((state_size, action_size))\n",
    "print(qtable)"
   ]
  },
  {
   "cell_type": "code",
   "execution_count": 5,
   "metadata": {},
   "outputs": [],
   "source": [
    "episodes = 30000            # Total episodes\n",
    "max_steps = 1000            # Max steps per episode\n",
    "lr = 0.3                    # Learning rate\n",
    "decay_fac = 0.00001         # Decay learning rate each iteration\n",
    "gamma = 0.90                # Discounting rate - later rewards impact less"
   ]
  },
  {
   "cell_type": "code",
   "execution_count": 6,
   "metadata": {},
   "outputs": [
    {
     "name": "stdout",
     "output_type": "stream",
     "text": [
      "episode =  3000\n",
      "learning rate =  0.26999999999997\n",
      "-----------\n",
      "episode =  6000\n",
      "learning rate =  0.23999999999993998\n",
      "-----------\n",
      "episode =  9000\n",
      "learning rate =  0.20999999999990998\n",
      "-----------\n",
      "episode =  12000\n",
      "learning rate =  0.17999999999987998\n",
      "-----------\n",
      "episode =  15000\n",
      "learning rate =  0.14999999999984998\n",
      "-----------\n",
      "episode =  18000\n",
      "learning rate =  0.11999999999982693\n",
      "-----------\n",
      "episode =  21000\n",
      "learning rate =  0.08999999999983856\n",
      "-----------\n",
      "episode =  24000\n",
      "learning rate =  0.059999999999848445\n",
      "-----------\n",
      "episode =  27000\n",
      "learning rate =  0.029999999999839697\n",
      "-----------\n"
     ]
    }
   ],
   "source": [
    "for episode in range(episodes):\n",
    "    \n",
    "    state = env.reset() # Reset the environment\n",
    "    done = False        # Are we done with the environment\n",
    "    lr -= decay_fac     # Decaying learning rate\n",
    "    step = 0\n",
    "    \n",
    "    if lr <= 0: # Nothing more to learn?\n",
    "        break\n",
    "        \n",
    "    for step in range(max_steps):\n",
    "        \n",
    "        # Randomly Choose an Action\n",
    "        action = env.action_space.sample()\n",
    "        \n",
    "        # Take the action -> observe new state and reward\n",
    "        new_state, reward, done, info = env.step(action)\n",
    "        \n",
    "        # Update qtable values\n",
    "        if done == True: # If last, do not count future accumulated reward\n",
    "            if(step < 199 | step > 201):\n",
    "                qtable[state, action] = qtable[state, action]+lr*(reward+gamma*0-qtable[state,action])\n",
    "            break\n",
    "        else: # Consider accumulated reward of best decision stream\n",
    "            qtable[state, action] = qtable[state,action]+lr*(reward+gamma*np.max(qtable[new_state,:])-qtable[state,action])\n",
    "    \n",
    "        # if done.. jump to next episode\n",
    "        if done == True:\n",
    "            break\n",
    "        \n",
    "        # moving states\n",
    "        state = new_state\n",
    "        \n",
    "    episode += 1\n",
    "    \n",
    "    if (episode % 3000 == 0):\n",
    "        print('episode = ', episode)\n",
    "        print('learning rate = ', lr)\n",
    "        print('-----------')"
   ]
  },
  {
   "cell_type": "code",
   "execution_count": 7,
   "metadata": {},
   "outputs": [
    {
     "name": "stdout",
     "output_type": "stream",
     "text": [
      "+---------+\n",
      "|R: | : :\u001b[35m\u001b[34;1m\u001b[43mG\u001b[0m\u001b[0m\u001b[0m|\n",
      "| : | : : |\n",
      "| : : : : |\n",
      "| | : | : |\n",
      "|Y| : |B: |\n",
      "+---------+\n",
      "  (Dropoff)\n",
      "Episode Reward =  4\n"
     ]
    }
   ],
   "source": [
    "# New environment\n",
    "state = env.reset()\n",
    "env.render()\n",
    "done = False\n",
    "total_reward = 0\n",
    "\n",
    "while(done == False):\n",
    "    \n",
    "    action = np.argmax(qtable[state,:]) # Choose best action (Q-table)\n",
    "    state, reward, done, info = env.step(action) # Take action\n",
    "    total_reward += reward  # Summing rewards\n",
    "    \n",
    "    # Display it\n",
    "    time.sleep(0.5)\n",
    "    clear_output(wait=True)\n",
    "    env.render()\n",
    "    print('Episode Reward = ', total_reward)"
   ]
  },
  {
   "cell_type": "code",
   "execution_count": null,
   "metadata": {},
   "outputs": [],
   "source": []
  }
 ],
 "metadata": {
  "kernelspec": {
   "display_name": "Python 3",
   "language": "python",
   "name": "python3"
  },
  "language_info": {
   "codemirror_mode": {
    "name": "ipython",
    "version": 3
   },
   "file_extension": ".py",
   "mimetype": "text/x-python",
   "name": "python",
   "nbconvert_exporter": "python",
   "pygments_lexer": "ipython3",
   "version": "3.8.6"
  }
 },
 "nbformat": 4,
 "nbformat_minor": 4
}
